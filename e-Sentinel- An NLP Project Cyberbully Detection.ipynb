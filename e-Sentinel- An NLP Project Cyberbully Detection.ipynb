{
 "cells": [
  {
   "cell_type": "markdown",
   "id": "0167482f",
   "metadata": {},
   "source": [
    "# e-Sentinel- NLP for cyberbully detection"
   ]
  },
  {
   "cell_type": "markdown",
   "id": "VuhN-g_iW8k4",
   "metadata": {
    "id": "VuhN-g_iW8k4"
   },
   "source": [
    "## Problem Statement\n",
    "According to the Cyber Security Authority (CSA), cyberbullying is the use of technology to harass, threaten, embarrass, or target another person. Online threats and mean, aggressive, or rude texts, tweets, posts, or messages all count as cyberbullying.\n",
    "\n",
    "The most common platforms for cyberbullying incidents are social media platforms. Instagram records the highest rate of cyberbullying among other platforms like Twitter, Facebook and Tiktok(Ditch the Label). In 2023, it was estimated that approximately 4.9 billion people use social media globally(Forbes Advisor) and cyberbullying prevalence is on the rise.\n",
    "A recent UNICEF cyberbullying poll conducted in 30 Sub-Saharan African countries, one in three respondents said they had been a victim of cyberbullying with one in five reporting having skipped school due to cyberbullying and violence.\n",
    "\n",
    "Cyberbullyng can cause;\n",
    "- Higher rates of depression and anxiety\n",
    "- Reduced feelings of self-worth\n",
    "- Increased suicide attempts\n",
    "\n",
    "\n",
    "Detecting and addressing cyberbullying is a major issue faced by social media platforms and the incoporation of Machine learning techniques provides a robust solution.\n",
    "\n",
    "\n",
    "\n",
    "\n"
   ]
  },
  {
   "cell_type": "markdown",
   "id": "ulJypuLTS3z3",
   "metadata": {
    "id": "ulJypuLTS3z3"
   },
   "source": [
    "## Project Objective\n",
    "\n",
    "In order to provide a safer platform for users there is a need for an effective detection system that can automate the process of cyberbullying detections and take decisions.This NLP projects aims;\n",
    "- to detect cyberbullying incidents,\n",
    "- automatically classify new instances\n",
    "- reduce investigation time and effort significantly."
   ]
  },
  {
   "cell_type": "markdown",
   "id": "7ZklS2dia1v_",
   "metadata": {
    "id": "7ZklS2dia1v_"
   },
   "source": [
    "## Data Description\n",
    "The dataset includes various types of cyberbullying instances, such as race/ethnicity, gender/sexual, and religion-related content, as well as non-cyberbullying instances.\n",
    "\n",
    "The dataset consists of a total of approximately 100,000 tweets collected from social media platforms. It is labeled with a multi-class classification approach, where each tweet falls into one of the following categories:\n",
    "\n",
    "Non-cyberbullying: 50,000 instances Race/Ethnicity-related cyberbullying: 17,000 instances Gender/Sexual-related cyberbullying: 17,000 instances Religion-related cyberbullying: around 16,000 instances The dataset is balance ensures equal representation of each class, allowing for effective training and evaluation of cyberbully detection models. [datafrom_kaggle]"
   ]
  },
  {
   "cell_type": "markdown",
   "id": "aiAfWmYySr6G",
   "metadata": {
    "id": "aiAfWmYySr6G"
   },
   "source": [
    "### Importation Of Packages"
   ]
  },
  {
   "cell_type": "code",
   "execution_count": 1,
   "id": "Xaf3hUqj7TLz",
   "metadata": {
    "colab": {
     "base_uri": "https://localhost:8080/"
    },
    "executionInfo": {
     "elapsed": 40856,
     "status": "ok",
     "timestamp": 1717733856478,
     "user": {
      "displayName": "Priscilla Lartey (Naadu)",
      "userId": "16198615527520245326"
     },
     "user_tz": 0
    },
    "id": "Xaf3hUqj7TLz",
    "outputId": "5f577748-5fef-48a9-d60f-3c7c7688b048"
   },
   "outputs": [
    {
     "name": "stdout",
     "output_type": "stream",
     "text": [
      "Requirement already satisfied: catboost in c:\\users\\hp\\anaconda3\\lib\\site-packages (1.2.5)\n",
      "Requirement already satisfied: graphviz in c:\\users\\hp\\anaconda3\\lib\\site-packages (from catboost) (0.20.3)\n",
      "Requirement already satisfied: matplotlib in c:\\users\\hp\\anaconda3\\lib\\site-packages (from catboost) (3.7.2)\n",
      "Requirement already satisfied: numpy>=1.16.0 in c:\\users\\hp\\anaconda3\\lib\\site-packages (from catboost) (1.24.3)\n",
      "Requirement already satisfied: pandas>=0.24 in c:\\users\\hp\\anaconda3\\lib\\site-packages (from catboost) (2.0.3)\n",
      "Requirement already satisfied: scipy in c:\\users\\hp\\anaconda3\\lib\\site-packages (from catboost) (1.11.1)\n",
      "Requirement already satisfied: plotly in c:\\users\\hp\\anaconda3\\lib\\site-packages (from catboost) (5.9.0)\n",
      "Requirement already satisfied: six in c:\\users\\hp\\anaconda3\\lib\\site-packages (from catboost) (1.16.0)\n",
      "Requirement already satisfied: python-dateutil>=2.8.2 in c:\\users\\hp\\anaconda3\\lib\\site-packages (from pandas>=0.24->catboost) (2.8.2)\n",
      "Requirement already satisfied: pytz>=2020.1 in c:\\users\\hp\\anaconda3\\lib\\site-packages (from pandas>=0.24->catboost) (2023.3.post1)\n",
      "Requirement already satisfied: tzdata>=2022.1 in c:\\users\\hp\\anaconda3\\lib\\site-packages (from pandas>=0.24->catboost) (2023.3)\n",
      "Requirement already satisfied: contourpy>=1.0.1 in c:\\users\\hp\\anaconda3\\lib\\site-packages (from matplotlib->catboost) (1.0.5)\n",
      "Requirement already satisfied: cycler>=0.10 in c:\\users\\hp\\anaconda3\\lib\\site-packages (from matplotlib->catboost) (0.11.0)\n",
      "Requirement already satisfied: fonttools>=4.22.0 in c:\\users\\hp\\anaconda3\\lib\\site-packages (from matplotlib->catboost) (4.25.0)\n",
      "Requirement already satisfied: kiwisolver>=1.0.1 in c:\\users\\hp\\anaconda3\\lib\\site-packages (from matplotlib->catboost) (1.4.4)\n",
      "Requirement already satisfied: packaging>=20.0 in c:\\users\\hp\\anaconda3\\lib\\site-packages (from matplotlib->catboost) (23.1)\n",
      "Requirement already satisfied: pillow>=6.2.0 in c:\\users\\hp\\anaconda3\\lib\\site-packages (from matplotlib->catboost) (9.4.0)\n",
      "Requirement already satisfied: pyparsing<3.1,>=2.3.1 in c:\\users\\hp\\anaconda3\\lib\\site-packages (from matplotlib->catboost) (3.0.9)\n",
      "Requirement already satisfied: tenacity>=6.2.0 in c:\\users\\hp\\anaconda3\\lib\\site-packages (from plotly->catboost) (8.2.2)\n"
     ]
    }
   ],
   "source": [
    "!pip install catboost"
   ]
  },
  {
   "cell_type": "code",
   "execution_count": 2,
   "id": "6ba7a62c",
   "metadata": {
    "id": "6ba7a62c"
   },
   "outputs": [],
   "source": [
    "#import important libraries\n",
    "import pandas as pd\n",
    "import numpy as np\n",
    "import matplotlib.pyplot as plt\n",
    "import seaborn as sns\n",
    "import plotly.express as px\n",
    "import nltk\n",
    "\n",
    "from sklearn.model_selection import train_test_split\n",
    "from sklearn.preprocessing import LabelEncoder\n",
    "from sklearn.feature_extraction.text import TfidfVectorizer\n",
    "\n",
    "from sklearn.linear_model import LogisticRegression\n",
    "from sklearn.tree import DecisionTreeClassifier\n",
    "from sklearn.ensemble import RandomForestClassifier\n",
    "from catboost import CatBoostClassifier\n",
    "from sklearn.model_selection import train_test_split\n",
    "\n",
    "from sklearn.model_selection import GridSearchCV\n",
    "from sklearn.metrics import confusion_matrix, ConfusionMatrixDisplay\n",
    "\n",
    "#modules for metrics\n",
    "from sklearn.metrics import accuracy_score, f1_score, classification_report, confusion_matrix, roc_curve, roc_auc_score\n",
    "\n",
    "import spacy\n",
    "\n",
    "import warnings\n",
    "warnings.filterwarnings(\"ignore\")\n"
   ]
  },
  {
   "cell_type": "code",
   "execution_count": 7,
   "id": "77e2GWehJ1eq",
   "metadata": {
    "id": "77e2GWehJ1eq"
   },
   "outputs": [
    {
     "name": "stdout",
     "output_type": "stream",
     "text": [
      " Volume in drive C has no label.\n",
      " Volume Serial Number is 5070-5205\n",
      "\n",
      " Directory of C:\\Users\\HP\\Desktop\\AI_Data Science\\NLP\n",
      "\n",
      "07/04/2024  12:32 PM    <DIR>          .\n",
      "07/04/2024  12:32 PM    <DIR>          ..\n",
      "07/04/2024  10:16 AM    <DIR>          .ipynb_checkpoints\n",
      "06/02/2024  02:56 AM           571,101 Amazon product review sentiment analysis .ipynb\n",
      "05/21/2024  06:10 AM         4,533,014 amazon_reviews_sample.csv\n",
      "07/26/2023  09:40 PM        14,947,269 cb_multi_labeled_balanced.csv\n",
      "06/02/2024  03:15 AM            56,936 Cyberbully Detection NLP Capstone Project.ipynb\n",
      "05/11/2024  02:35 PM             7,397 fakenews.csv\n",
      "07/04/2024  12:32 PM           145,757 Final NLP Project Cyberbully Detection.ipynb\n",
      "07/03/2024  11:55 AM            60,810 Final_NLP_Project_Cyberbully_Detection.ipynb\n",
      "05/21/2024  06:10 AM        10,028,615 IMDB_sample.csv\n",
      "07/04/2024  10:44 AM            17,667 label_image.jpg\n",
      "07/04/2024  10:44 AM            15,807 label_image1.jpg\n",
      "06/03/2024  12:11 PM         3,384,348 movie_overviews from zoom.csv\n",
      "05/11/2024  02:35 PM         3,384,348 movie_overviews.csv\n",
      "05/11/2024  02:35 PM         1,227,546 movie_reviews_clean.csv\n",
      "05/21/2024  11:46 AM            46,620 Natural Language Processing Tutorials.ipynb\n",
      "06/22/2024  10:52 AM         7,569,225 NLP Capstone Project (1).pptx\n",
      "06/02/2024  02:07 AM            16,111 Pipelines.ipynb\n",
      "07/03/2024  09:52 PM            22,081 Recommendation System.ipynb\n",
      "06/03/2024  12:10 PM             1,579 Recommendation System.py\n",
      "05/21/2024  08:46 AM            42,836 REGEX.ipynb\n",
      "05/11/2024  02:35 PM         5,636,434 ted.csv\n",
      "05/21/2024  06:10 AM         3,421,431 Tweets.csv\n",
      "              21 File(s)     55,136,932 bytes\n",
      "               3 Dir(s)  373,809,090,560 bytes free\n"
     ]
    }
   ],
   "source": [
    "ls"
   ]
  },
  {
   "cell_type": "markdown",
   "id": "_piNRhTNYJqR",
   "metadata": {
    "id": "_piNRhTNYJqR"
   },
   "source": [
    "## Data Importation"
   ]
  },
  {
   "cell_type": "code",
   "execution_count": 8,
   "id": "5c711162",
   "metadata": {
    "colab": {
     "base_uri": "https://localhost:8080/",
     "height": 206
    },
    "executionInfo": {
     "elapsed": 1433,
     "status": "ok",
     "timestamp": 1717733936149,
     "user": {
      "displayName": "Priscilla Lartey (Naadu)",
      "userId": "16198615527520245326"
     },
     "user_tz": 0
    },
    "id": "5c711162",
    "outputId": "943fcf2a-80a0-4742-a2e0-e5e281c9eea6",
    "scrolled": false
   },
   "outputs": [],
   "source": [
    "#Load cyberbullying file\n",
    "cyber_df = pd.read_csv('cb_multi_labeled_balanced.csv')"
   ]
  },
  {
   "cell_type": "markdown",
   "id": "ypG6TorTYSSN",
   "metadata": {
    "id": "ypG6TorTYSSN"
   },
   "source": [
    "## Data Cleaning and Validation"
   ]
  },
  {
   "cell_type": "markdown",
   "id": "0b46ed02",
   "metadata": {},
   "source": [
    "### Sanity Checks"
   ]
  },
  {
   "cell_type": "code",
   "execution_count": 9,
   "id": "f3146e76",
   "metadata": {},
   "outputs": [
    {
     "data": {
      "text/html": [
       "<div>\n",
       "<style scoped>\n",
       "    .dataframe tbody tr th:only-of-type {\n",
       "        vertical-align: middle;\n",
       "    }\n",
       "\n",
       "    .dataframe tbody tr th {\n",
       "        vertical-align: top;\n",
       "    }\n",
       "\n",
       "    .dataframe thead th {\n",
       "        text-align: right;\n",
       "    }\n",
       "</style>\n",
       "<table border=\"1\" class=\"dataframe\">\n",
       "  <thead>\n",
       "    <tr style=\"text-align: right;\">\n",
       "      <th></th>\n",
       "      <th>text</th>\n",
       "      <th>label</th>\n",
       "    </tr>\n",
       "  </thead>\n",
       "  <tbody>\n",
       "    <tr>\n",
       "      <th>0</th>\n",
       "      <td>@ZubearSays Any real nigga isn't letting this ...</td>\n",
       "      <td>ethnicity/race</td>\n",
       "    </tr>\n",
       "    <tr>\n",
       "      <th>1</th>\n",
       "      <td>@MoradoSkittle @prolifejewess @DAConsult @Kell...</td>\n",
       "      <td>not_cyberbullying</td>\n",
       "    </tr>\n",
       "    <tr>\n",
       "      <th>2</th>\n",
       "      <td>the only thing i wish, i wish a nigga would</td>\n",
       "      <td>ethnicity/race</td>\n",
       "    </tr>\n",
       "    <tr>\n",
       "      <th>3</th>\n",
       "      <td>You saudias are not friends of Muslim idiots c...</td>\n",
       "      <td>religion</td>\n",
       "    </tr>\n",
       "    <tr>\n",
       "      <th>4</th>\n",
       "      <td>@JaydenT2399 @TractorLaw @holmes_gael @erconge...</td>\n",
       "      <td>religion</td>\n",
       "    </tr>\n",
       "  </tbody>\n",
       "</table>\n",
       "</div>"
      ],
      "text/plain": [
       "                                                text              label\n",
       "0  @ZubearSays Any real nigga isn't letting this ...     ethnicity/race\n",
       "1  @MoradoSkittle @prolifejewess @DAConsult @Kell...  not_cyberbullying\n",
       "2        the only thing i wish, i wish a nigga would     ethnicity/race\n",
       "3  You saudias are not friends of Muslim idiots c...           religion\n",
       "4  @JaydenT2399 @TractorLaw @holmes_gael @erconge...           religion"
      ]
     },
     "execution_count": 9,
     "metadata": {},
     "output_type": "execute_result"
    }
   ],
   "source": [
    "cyber_df.head()"
   ]
  },
  {
   "cell_type": "code",
   "execution_count": 87,
   "id": "e831bafd",
   "metadata": {
    "colab": {
     "base_uri": "https://localhost:8080/",
     "height": 206
    },
    "executionInfo": {
     "elapsed": 70,
     "status": "ok",
     "timestamp": 1717733936150,
     "user": {
      "displayName": "Priscilla Lartey (Naadu)",
      "userId": "16198615527520245326"
     },
     "user_tz": 0
    },
    "id": "e831bafd",
    "outputId": "4d715861-5e2a-484c-d6c8-be4fd7c523e1",
    "scrolled": false
   },
   "outputs": [
    {
     "data": {
      "text/html": [
       "<div>\n",
       "<style scoped>\n",
       "    .dataframe tbody tr th:only-of-type {\n",
       "        vertical-align: middle;\n",
       "    }\n",
       "\n",
       "    .dataframe tbody tr th {\n",
       "        vertical-align: top;\n",
       "    }\n",
       "\n",
       "    .dataframe thead th {\n",
       "        text-align: right;\n",
       "    }\n",
       "</style>\n",
       "<table border=\"1\" class=\"dataframe\">\n",
       "  <thead>\n",
       "    <tr style=\"text-align: right;\">\n",
       "      <th></th>\n",
       "      <th>text</th>\n",
       "      <th>label</th>\n",
       "      <th>lemmatized_tokens</th>\n",
       "    </tr>\n",
       "  </thead>\n",
       "  <tbody>\n",
       "    <tr>\n",
       "      <th>99985</th>\n",
       "      <td>Thank fuck they didn’t dance remix Peru #LoveI...</td>\n",
       "      <td>not_cyberbullying</td>\n",
       "      <td>thank fuck they do not dance remix Peru LoveIs...</td>\n",
       "    </tr>\n",
       "    <tr>\n",
       "      <th>99986</th>\n",
       "      <td>Sierra Canyon vs. Alemany - California High Sc...</td>\n",
       "      <td>not_cyberbullying</td>\n",
       "      <td>Sierra Canyon Alemany California High School g...</td>\n",
       "    </tr>\n",
       "    <tr>\n",
       "      <th>99987</th>\n",
       "      <td>@queenbellaxoxo @PontiacMadeDDG @HalleBailey B...</td>\n",
       "      <td>cyber_bullying</td>\n",
       "      <td>bitch I be not flirt I be snitch</td>\n",
       "    </tr>\n",
       "    <tr>\n",
       "      <th>99988</th>\n",
       "      <td>What you like yo nigga to call you</td>\n",
       "      <td>cyber_bullying</td>\n",
       "      <td>what you like yo nigga to call you</td>\n",
       "    </tr>\n",
       "    <tr>\n",
       "      <th>99989</th>\n",
       "      <td>@kirkfranklin Happy CAKE DAY 🌬🎂🎁🎈🎉</td>\n",
       "      <td>not_cyberbullying</td>\n",
       "      <td>Happy CAKE DAY</td>\n",
       "    </tr>\n",
       "  </tbody>\n",
       "</table>\n",
       "</div>"
      ],
      "text/plain": [
       "                                                    text              label  \\\n",
       "99985  Thank fuck they didn’t dance remix Peru #LoveI...  not_cyberbullying   \n",
       "99986  Sierra Canyon vs. Alemany - California High Sc...  not_cyberbullying   \n",
       "99987  @queenbellaxoxo @PontiacMadeDDG @HalleBailey B...     cyber_bullying   \n",
       "99988                 What you like yo nigga to call you     cyber_bullying   \n",
       "99989                 @kirkfranklin Happy CAKE DAY 🌬🎂🎁🎈🎉  not_cyberbullying   \n",
       "\n",
       "                                       lemmatized_tokens  \n",
       "99985  thank fuck they do not dance remix Peru LoveIs...  \n",
       "99986  Sierra Canyon Alemany California High School g...  \n",
       "99987                   bitch I be not flirt I be snitch  \n",
       "99988                 what you like yo nigga to call you  \n",
       "99989                                     Happy CAKE DAY  "
      ]
     },
     "execution_count": 87,
     "metadata": {},
     "output_type": "execute_result"
    }
   ],
   "source": [
    "cyber_df.tail()"
   ]
  },
  {
   "cell_type": "code",
   "execution_count": 11,
   "id": "6ce2ea29",
   "metadata": {
    "colab": {
     "base_uri": "https://localhost:8080/"
    },
    "executionInfo": {
     "elapsed": 69,
     "status": "ok",
     "timestamp": 1717733936153,
     "user": {
      "displayName": "Priscilla Lartey (Naadu)",
      "userId": "16198615527520245326"
     },
     "user_tz": 0
    },
    "id": "6ce2ea29",
    "outputId": "7412ac25-753b-4921-f9b2-b7f7b928455e",
    "scrolled": true
   },
   "outputs": [
    {
     "name": "stdout",
     "output_type": "stream",
     "text": [
      "<class 'pandas.core.frame.DataFrame'>\n",
      "RangeIndex: 99990 entries, 0 to 99989\n",
      "Data columns (total 2 columns):\n",
      " #   Column  Non-Null Count  Dtype \n",
      "---  ------  --------------  ----- \n",
      " 0   text    99990 non-null  object\n",
      " 1   label   99990 non-null  object\n",
      "dtypes: object(2)\n",
      "memory usage: 1.5+ MB\n"
     ]
    }
   ],
   "source": [
    "cyber_df.info()"
   ]
  },
  {
   "cell_type": "code",
   "execution_count": 12,
   "id": "80f14eeb",
   "metadata": {
    "colab": {
     "base_uri": "https://localhost:8080/",
     "height": 187
    },
    "executionInfo": {
     "elapsed": 59,
     "status": "ok",
     "timestamp": 1717733936157,
     "user": {
      "displayName": "Priscilla Lartey (Naadu)",
      "userId": "16198615527520245326"
     },
     "user_tz": 0
    },
    "id": "80f14eeb",
    "outputId": "36a21898-6335-4588-8e08-7ba0ef4e1e87"
   },
   "outputs": [
    {
     "data": {
      "text/plain": [
       "<bound method Series.unique of 0        @ZubearSays Any real nigga isn't letting this ...\n",
       "1        @MoradoSkittle @prolifejewess @DAConsult @Kell...\n",
       "2              the only thing i wish, i wish a nigga would\n",
       "3        You saudias are not friends of Muslim idiots c...\n",
       "4        @JaydenT2399 @TractorLaw @holmes_gael @erconge...\n",
       "                               ...                        \n",
       "99985    Thank fuck they didn’t dance remix Peru #LoveI...\n",
       "99986    Sierra Canyon vs. Alemany - California High Sc...\n",
       "99987    @queenbellaxoxo @PontiacMadeDDG @HalleBailey B...\n",
       "99988                   What you like yo nigga to call you\n",
       "99989                   @kirkfranklin Happy CAKE DAY 🌬🎂🎁🎈🎉\n",
       "Name: text, Length: 99990, dtype: object>"
      ]
     },
     "execution_count": 12,
     "metadata": {},
     "output_type": "execute_result"
    }
   ],
   "source": [
    "cyber_df['text'].unique"
   ]
  },
  {
   "cell_type": "code",
   "execution_count": 13,
   "id": "6a8d1359",
   "metadata": {
    "colab": {
     "base_uri": "https://localhost:8080/",
     "height": 175
    },
    "executionInfo": {
     "elapsed": 56,
     "status": "ok",
     "timestamp": 1717733936158,
     "user": {
      "displayName": "Priscilla Lartey (Naadu)",
      "userId": "16198615527520245326"
     },
     "user_tz": 0
    },
    "id": "6a8d1359",
    "outputId": "7c96a0d4-f56e-42bd-8feb-ccd49e292c82"
   },
   "outputs": [
    {
     "data": {
      "text/html": [
       "<div>\n",
       "<style scoped>\n",
       "    .dataframe tbody tr th:only-of-type {\n",
       "        vertical-align: middle;\n",
       "    }\n",
       "\n",
       "    .dataframe tbody tr th {\n",
       "        vertical-align: top;\n",
       "    }\n",
       "\n",
       "    .dataframe thead th {\n",
       "        text-align: right;\n",
       "    }\n",
       "</style>\n",
       "<table border=\"1\" class=\"dataframe\">\n",
       "  <thead>\n",
       "    <tr style=\"text-align: right;\">\n",
       "      <th></th>\n",
       "      <th>text</th>\n",
       "      <th>label</th>\n",
       "    </tr>\n",
       "  </thead>\n",
       "  <tbody>\n",
       "    <tr>\n",
       "      <th>count</th>\n",
       "      <td>99990</td>\n",
       "      <td>99990</td>\n",
       "    </tr>\n",
       "    <tr>\n",
       "      <th>unique</th>\n",
       "      <td>99989</td>\n",
       "      <td>4</td>\n",
       "    </tr>\n",
       "    <tr>\n",
       "      <th>top</th>\n",
       "      <td>#NAME?</td>\n",
       "      <td>not_cyberbullying</td>\n",
       "    </tr>\n",
       "    <tr>\n",
       "      <th>freq</th>\n",
       "      <td>2</td>\n",
       "      <td>50000</td>\n",
       "    </tr>\n",
       "  </tbody>\n",
       "</table>\n",
       "</div>"
      ],
      "text/plain": [
       "          text              label\n",
       "count    99990              99990\n",
       "unique   99989                  4\n",
       "top     #NAME?  not_cyberbullying\n",
       "freq         2              50000"
      ]
     },
     "execution_count": 13,
     "metadata": {},
     "output_type": "execute_result"
    }
   ],
   "source": [
    "cyber_df.describe()"
   ]
  },
  {
   "cell_type": "code",
   "execution_count": 14,
   "id": "cc6325b9",
   "metadata": {
    "colab": {
     "base_uri": "https://localhost:8080/"
    },
    "executionInfo": {
     "elapsed": 993,
     "status": "ok",
     "timestamp": 1717733937099,
     "user": {
      "displayName": "Priscilla Lartey (Naadu)",
      "userId": "16198615527520245326"
     },
     "user_tz": 0
    },
    "id": "cc6325b9",
    "outputId": "2f3e24e8-6e01-45b5-d80b-b76b3679c6b0"
   },
   "outputs": [
    {
     "data": {
      "text/plain": [
       "text     0\n",
       "label    0\n",
       "dtype: int64"
      ]
     },
     "execution_count": 14,
     "metadata": {},
     "output_type": "execute_result"
    }
   ],
   "source": [
    "#Finding missing values\n",
    "cyber_df.isna().sum()"
   ]
  },
  {
   "cell_type": "code",
   "execution_count": 15,
   "id": "c201f6af",
   "metadata": {
    "colab": {
     "base_uri": "https://localhost:8080/"
    },
    "executionInfo": {
     "elapsed": 69,
     "status": "ok",
     "timestamp": 1717733937100,
     "user": {
      "displayName": "Priscilla Lartey (Naadu)",
      "userId": "16198615527520245326"
     },
     "user_tz": 0
    },
    "id": "c201f6af",
    "outputId": "a721766f-7067-4202-916d-18bbc99e134c"
   },
   "outputs": [
    {
     "data": {
      "text/plain": [
       "99989"
      ]
     },
     "execution_count": 15,
     "metadata": {},
     "output_type": "execute_result"
    }
   ],
   "source": [
    "#Unique Values\n",
    "cyber_df['text'].nunique()"
   ]
  },
  {
   "cell_type": "markdown",
   "id": "lba_0n30ThrE",
   "metadata": {
    "id": "lba_0n30ThrE"
   },
   "source": [
    "### Exploratory Data Analysis"
   ]
  },
  {
   "cell_type": "code",
   "execution_count": 16,
   "id": "iudxfWawjwRY",
   "metadata": {
    "colab": {
     "base_uri": "https://localhost:8080/",
     "height": 472
    },
    "executionInfo": {
     "elapsed": 53,
     "status": "ok",
     "timestamp": 1717733937102,
     "user": {
      "displayName": "Priscilla Lartey (Naadu)",
      "userId": "16198615527520245326"
     },
     "user_tz": 0
    },
    "id": "iudxfWawjwRY",
    "outputId": "4f277406-4ae6-4856-ea6e-d2224256a220"
   },
   "outputs": [
    {
     "data": {
      "image/png": "[encoded data removed]",
      "text/plain": [
       "<Figure size 640x480 with 1 Axes>"
      ]
     },
     "metadata": {},
     "output_type": "display_data"
    }
   ],
   "source": [
    "label_counts = cyber_df['label'].value_counts().reset_index()\n",
    "label_counts.columns = ['label', 'count']\n",
    "label_counts\n",
    "\n",
    "# # Bar Chart\n",
    "sns.barplot(x='label', y='count',data=label_counts)\n",
    "sns.despine(top=True, right=True, bottom=True, left= True)\n",
    "total=len(cyber_df)\n",
    "for p in plt.gca().patches:\n",
    "  height= p.get_height()\n",
    "  plt.gca().text(p.get_x()+p.get_width()/2., height + 3, '{:1.2f}'.format(height/total), ha=\"center\")\n",
    "plt.title('Distribution of Labels')\n",
    "plt.xlabel('Cyber Instance')\n",
    "plt.ylabel('Count')\n",
    "plt.yticks([])\n",
    "plt.savefig('label_image1.jpg')\n",
    "plt.show()\n"
   ]
  },
  {
   "cell_type": "code",
   "execution_count": 17,
   "id": "w6U3kFW7zAEL",
   "metadata": {
    "id": "w6U3kFW7zAEL"
   },
   "outputs": [],
   "source": [
    "#Converting target variable into two classes\n",
    "cyber_df.replace({'ethnicity/race': 'cyber_bullying',\n",
    "                 'religion':'cyber_bullying', 'gender/sexual':'cyber_bullying'}, inplace=True)"
   ]
  },
  {
   "cell_type": "code",
   "execution_count": 18,
   "id": "19e058f3",
   "metadata": {
    "colab": {
     "base_uri": "https://localhost:8080/",
     "height": 472
    },
    "executionInfo": {
     "elapsed": 849,
     "status": "ok",
     "timestamp": 1717733937913,
     "user": {
      "displayName": "Priscilla Lartey (Naadu)",
      "userId": "16198615527520245326"
     },
     "user_tz": 0
    },
    "id": "19e058f3",
    "outputId": "8fc408bf-59a3-4c56-a5a7-3b0ad0a5bfa8"
   },
   "outputs": [
    {
     "data": {
      "image/png": "[encoded data removed]",
      "text/plain": [
       "<Figure size 640x480 with 1 Axes>"
      ]
     },
     "metadata": {},
     "output_type": "display_data"
    }
   ],
   "source": [
    "# Counting labels\n",
    "label_counts = cyber_df['label'].value_counts().reset_index()\n",
    "label_counts.columns = ['label', 'count']\n",
    "label_counts\n",
    "\n",
    "# # Bar Chart\n",
    "sns.barplot(x='label', y='count',data=label_counts)\n",
    "sns.despine(top=True, right=True, bottom=True, left= True)\n",
    "total=len(cyber_df)\n",
    "for p in plt.gca().patches:\n",
    "  height= p.get_height()\n",
    "  plt.gca().text(p.get_x()+p.get_width()/2., height + 3, '{:1.2f}'.format(height/total), ha=\"center\")\n",
    "plt.title('Distribution of Labels')\n",
    "plt.xlabel('Cyber Instance')\n",
    "plt.ylabel('Count')\n",
    "plt.yticks([])\n",
    "plt.savefig('label_image.jpg')\n",
    "plt.show()\n",
    "\n"
   ]
  },
  {
   "cell_type": "markdown",
   "id": "088cab16",
   "metadata": {
    "id": "088cab16"
   },
   "source": [
    "### Data Cleaning"
   ]
  },
  {
   "cell_type": "code",
   "execution_count": 19,
   "id": "0130fea6",
   "metadata": {
    "id": "0130fea6"
   },
   "outputs": [],
   "source": [
    "#Dropping Duplicates values in the text column\n",
    "cyber_df.drop_duplicates(subset = ['text'], inplace = True)\n",
    "cyber_df.dropna(inplace = True)"
   ]
  },
  {
   "cell_type": "code",
   "execution_count": 20,
   "id": "46cuXfvq0CFg",
   "metadata": {
    "id": "46cuXfvq0CFg"
   },
   "outputs": [],
   "source": [
    "def percent(x):\n",
    "  return '{:1.1f}%'.format(x/total*100)"
   ]
  },
  {
   "cell_type": "code",
   "execution_count": 21,
   "id": "oYA5v5QbY5K7",
   "metadata": {
    "colab": {
     "base_uri": "https://localhost:8080/",
     "height": 458
    },
    "executionInfo": {
     "elapsed": 678,
     "status": "ok",
     "timestamp": 1717734095786,
     "user": {
      "displayName": "Priscilla Lartey (Naadu)",
      "userId": "16198615527520245326"
     },
     "user_tz": 0
    },
    "id": "oYA5v5QbY5K7",
    "outputId": "55a3fb1c-efe9-478d-fd1f-fabe5818ae8f"
   },
   "outputs": [
    {
     "name": "stderr",
     "output_type": "stream",
     "text": [
      "posx and posy should be finite values\n",
      "posx and posy should be finite values\n",
      "posx and posy should be finite values\n",
      "posx and posy should be finite values\n",
      "posx and posy should be finite values\n",
      "posx and posy should be finite values\n",
      "posx and posy should be finite values\n",
      "posx and posy should be finite values\n"
     ]
    },
    {
     "data": {
      "image/png": "[encoded data removed]",
      "text/plain": [
       "<Figure size 640x480 with 1 Axes>"
      ]
     },
     "metadata": {},
     "output_type": "display_data"
    }
   ],
   "source": [
    "#VisuaLising Distribution After Dropping duplicates\n",
    "# Bar Chart\n",
    "sns.set(style='ticks')\n",
    "colors = ['cadetblue','red']\n",
    "sns.barplot(x='label', y='count',data=label_counts, hue='label',palette= colors)\n",
    "#function to convert into percent and\n",
    "\n",
    "sns.despine(top=True, right=True, bottom=True, left= True)\n",
    "total=len(cyber_df)\n",
    "for p in plt.gca().patches:\n",
    "  height= p.get_height()\n",
    "  plt.gca().text(p.get_x()+p.get_width()/2., height + 0.5, percent(height), ha=\"center\")\n",
    "plt.title('Distribution of Labels')\n",
    "plt.xlabel('')\n",
    "plt.ylabel('')\n",
    "plt.yticks([])\n",
    "plt.savefig('label_image.jpg')\n",
    "plt.show()"
   ]
  },
  {
   "cell_type": "code",
   "execution_count": 23,
   "id": "a410a676",
   "metadata": {
    "colab": {
     "base_uri": "https://localhost:8080/"
    },
    "executionInfo": {
     "elapsed": 722,
     "status": "ok",
     "timestamp": 1717734019664,
     "user": {
      "displayName": "Priscilla Lartey (Naadu)",
      "userId": "16198615527520245326"
     },
     "user_tz": 0
    },
    "id": "a410a676",
    "outputId": "154236a2-5219-4efc-e455-6c470257eb96"
   },
   "outputs": [
    {
     "name": "stdout",
     "output_type": "stream",
     "text": [
      "<class 'pandas.core.frame.DataFrame'>\n",
      "Index: 99989 entries, 0 to 99989\n",
      "Data columns (total 2 columns):\n",
      " #   Column  Non-Null Count  Dtype \n",
      "---  ------  --------------  ----- \n",
      " 0   text    99989 non-null  object\n",
      " 1   label   99989 non-null  object\n",
      "dtypes: object(2)\n",
      "memory usage: 2.3+ MB\n"
     ]
    }
   ],
   "source": [
    "#info after dropping duplicates in text column\n",
    "cyber_df.info()"
   ]
  },
  {
   "cell_type": "code",
   "execution_count": 24,
   "id": "ec15c4cf",
   "metadata": {
    "colab": {
     "base_uri": "https://localhost:8080/"
    },
    "executionInfo": {
     "elapsed": 70,
     "status": "ok",
     "timestamp": 1717734019666,
     "user": {
      "displayName": "Priscilla Lartey (Naadu)",
      "userId": "16198615527520245326"
     },
     "user_tz": 0
    },
    "id": "ec15c4cf",
    "outputId": "3f2cddb0-bc84-49ec-bd60-b3b8adef2a06"
   },
   "outputs": [
    {
     "data": {
      "text/plain": [
       "99989"
      ]
     },
     "execution_count": 24,
     "metadata": {},
     "output_type": "execute_result"
    }
   ],
   "source": [
    "cyber_df['text'].nunique()"
   ]
  },
  {
   "cell_type": "code",
   "execution_count": 25,
   "id": "8Jgf8_dBc8MA",
   "metadata": {
    "colab": {
     "base_uri": "https://localhost:8080/",
     "height": 73
    },
    "executionInfo": {
     "elapsed": 60,
     "status": "ok",
     "timestamp": 1717734019667,
     "user": {
      "displayName": "Priscilla Lartey (Naadu)",
      "userId": "16198615527520245326"
     },
     "user_tz": 0
    },
    "id": "8Jgf8_dBc8MA",
    "outputId": "c6d38b6e-c18e-4638-e224-c8526763c58c"
   },
   "outputs": [
    {
     "data": {
      "text/plain": [
       "'@JaydenT2399 @TractorLaw @holmes_gael @erconger @Acyn And yet the MAGA want to do just that. The Judah Christian and Muslim believe system doesn\\'t own the exclusive rights to common morals, not that most \"xians\" actually follow it. I know more heathens, pagans and atheists who are way more Christ-like than most Christians.'"
      ]
     },
     "execution_count": 25,
     "metadata": {},
     "output_type": "execute_result"
    }
   ],
   "source": [
    "cyber_df['text'].iloc[4]"
   ]
  },
  {
   "cell_type": "code",
   "execution_count": 26,
   "id": "2FZCJ1KDecLO",
   "metadata": {
    "colab": {
     "base_uri": "https://localhost:8080/",
     "height": 73
    },
    "executionInfo": {
     "elapsed": 53,
     "status": "ok",
     "timestamp": 1717734019669,
     "user": {
      "displayName": "Priscilla Lartey (Naadu)",
      "userId": "16198615527520245326"
     },
     "user_tz": 0
    },
    "id": "2FZCJ1KDecLO",
    "outputId": "4e48b3a9-6622-4c0a-da89-f92269a7f6ed"
   },
   "outputs": [
    {
     "data": {
      "text/plain": [
       "\"He Knew He Was Going To Have Me Tell You The Truth He Is Arabic He Taught Me The Quran For This Prophecy He is Your Father He Created Your Christians Overwhelmed Right Now Isalm Doesn't Seem To Care I Can't Breathe He Is Not Happy Christians One Christian Woman Not A Muslim Woman\""
      ]
     },
     "execution_count": 26,
     "metadata": {},
     "output_type": "execute_result"
    }
   ],
   "source": [
    "cyber_df['text'].iloc[1000]"
   ]
  },
  {
   "cell_type": "markdown",
   "id": "X6z7DuYNY5X5",
   "metadata": {
    "id": "X6z7DuYNY5X5"
   },
   "source": [
    "## Data Preprocessing"
   ]
  },
  {
   "cell_type": "markdown",
   "id": "f63ffc5c",
   "metadata": {
    "id": "f63ffc5c"
   },
   "source": [
    "#### Encoding the Labels"
   ]
  },
  {
   "cell_type": "code",
   "execution_count": 27,
   "id": "c3b0207d",
   "metadata": {
    "colab": {
     "base_uri": "https://localhost:8080/"
    },
    "executionInfo": {
     "elapsed": 48,
     "status": "ok",
     "timestamp": 1717734019670,
     "user": {
      "displayName": "Priscilla Lartey (Naadu)",
      "userId": "16198615527520245326"
     },
     "user_tz": 0
    },
    "id": "c3b0207d",
    "outputId": "ea5e6157-a18d-43bb-a757-1face04ec133"
   },
   "outputs": [
    {
     "data": {
      "text/plain": [
       "{'cyber_bullying': 0, 'not_cyberbullying': 1}"
      ]
     },
     "execution_count": 27,
     "metadata": {},
     "output_type": "execute_result"
    }
   ],
   "source": [
    "#changing categorical into numerical\n",
    "texts = cyber_df['text']\n",
    "labels = cyber_df['label']\n",
    "\n",
    "label_encoder = LabelEncoder()\n",
    "encoded_labels = label_encoder.fit_transform(labels)\n",
    "label_mapping = dict(zip(cyber_df['label'], encoded_labels))\n",
    "label_mapping"
   ]
  },
  {
   "cell_type": "code",
   "execution_count": 28,
   "id": "7a7d68f6",
   "metadata": {
    "colab": {
     "base_uri": "https://localhost:8080/"
    },
    "executionInfo": {
     "elapsed": 1306,
     "status": "ok",
     "timestamp": 1717734020946,
     "user": {
      "displayName": "Priscilla Lartey (Naadu)",
      "userId": "16198615527520245326"
     },
     "user_tz": 0
    },
    "id": "7a7d68f6",
    "outputId": "f5243dfe-9d65-4839-d7fa-ec2347fee940"
   },
   "outputs": [
    {
     "name": "stdout",
     "output_type": "stream",
     "text": [
      "SpaCy model loaded successfully.\n"
     ]
    }
   ],
   "source": [
    "try:\n",
    "    # Loading the en_core_web_sm model\n",
    "    nlp = spacy.load('en_core_web_sm')\n",
    "except OSError:\n",
    "    import subprocess\n",
    "    import sys\n",
    "    # Installing the model if not present\n",
    "    subprocess.run([sys.executable, \"-m\", \"spacy\", \"download\", \"en_core_web_sm\"])\n",
    "    nlp = spacy.load('en_core_web_sm')\n",
    "\n",
    "print(\"SpaCy model loaded successfully.\")"
   ]
  },
  {
   "cell_type": "markdown",
   "id": "8ff2991a",
   "metadata": {
    "id": "8ff2991a"
   },
   "source": [
    "#### Tokenization and Lemmatization"
   ]
  },
  {
   "cell_type": "code",
   "execution_count": 29,
   "id": "e6a977fd",
   "metadata": {
    "colab": {
     "base_uri": "https://localhost:8080/"
    },
    "executionInfo": {
     "elapsed": 400371,
     "status": "ok",
     "timestamp": 1717734718590,
     "user": {
      "displayName": "Priscilla Lartey (Naadu)",
      "userId": "16198615527520245326"
     },
     "user_tz": 0
    },
    "id": "e6a977fd",
    "outputId": "c00883fa-0172-4999-c2d0-5a47781e51b7"
   },
   "outputs": [
    {
     "name": "stdout",
     "output_type": "stream",
     "text": [
      "                                                text              label  \\\n",
      "0  @ZubearSays Any real nigga isn't letting this ...     cyber_bullying   \n",
      "1  @MoradoSkittle @prolifejewess @DAConsult @Kell...  not_cyberbullying   \n",
      "2        the only thing i wish, i wish a nigga would     cyber_bullying   \n",
      "3  You saudias are not friends of Muslim idiots c...     cyber_bullying   \n",
      "4  @JaydenT2399 @TractorLaw @holmes_gael @erconge...     cyber_bullying   \n",
      "\n",
      "                                   lemmatized_tokens  \n",
      "0  [@zubearsays, any, real, nigga, be, not, let, ...  \n",
      "1  [@moradoskittle, @prolifejewess, @DAConsult, @...  \n",
      "2  [the, only, thing, I, wish, ,, I, wish, a, nig...  \n",
      "3  [you, saudia, be, not, friend, of, muslim, idi...  \n",
      "4  [@JaydenT2399, @tractorlaw, @holmes_gael, @erc...  \n"
     ]
    }
   ],
   "source": [
    "def tokenize_and_lemmatize(texts):\n",
    "    lemmatized_texts = []\n",
    "    for doc in nlp.pipe(texts, batch_size=1000):  #Tokenization  #Adjust batch_size as needed\n",
    "        lemmatized_tokens = [token.lemma_ for token in doc]\n",
    "        lemmatized_texts.append(lemmatized_tokens)\n",
    "    return lemmatized_texts\n",
    "\n",
    "# Applying the function to tokenize and lemmatize each text in batches\n",
    "cyber_df['lemmatized_tokens'] = tokenize_and_lemmatize(cyber_df['text'])\n",
    "\n",
    "# Printing the DataFrame to see the results\n",
    "print(cyber_df.head())"
   ]
  },
  {
   "cell_type": "markdown",
   "id": "WIq0yeSRSHEv",
   "metadata": {
    "id": "WIq0yeSRSHEv"
   },
   "source": [
    "#### Removing Symbols and Emjois"
   ]
  },
  {
   "cell_type": "code",
   "execution_count": 30,
   "id": "sbDZbLYgHOz1",
   "metadata": {
    "colab": {
     "base_uri": "https://localhost:8080/"
    },
    "executionInfo": {
     "elapsed": 736,
     "status": "ok",
     "timestamp": 1717734719317,
     "user": {
      "displayName": "Priscilla Lartey (Naadu)",
      "userId": "16198615527520245326"
     },
     "user_tz": 0
    },
    "id": "sbDZbLYgHOz1",
    "outputId": "159ac532-3bc4-4f97-bce5-5ad85d2c2e2f"
   },
   "outputs": [
    {
     "name": "stdout",
     "output_type": "stream",
     "text": [
      "                                                text              label  \\\n",
      "0  @ZubearSays Any real nigga isn't letting this ...     cyber_bullying   \n",
      "1  @MoradoSkittle @prolifejewess @DAConsult @Kell...  not_cyberbullying   \n",
      "2        the only thing i wish, i wish a nigga would     cyber_bullying   \n",
      "3  You saudias are not friends of Muslim idiots c...     cyber_bullying   \n",
      "4  @JaydenT2399 @TractorLaw @holmes_gael @erconge...     cyber_bullying   \n",
      "\n",
      "                                   lemmatized_tokens  \n",
      "0              any real nigga be not let this happen  \n",
      "1  I do not even mention Mexico but the US be far...  \n",
      "2         the only thing I wish I wish a nigga would  \n",
      "3  you saudia be not friend of muslim idiot cheap...  \n",
      "4  and yet the MAGA want to do just that the Juda...  \n"
     ]
    }
   ],
   "source": [
    "import re\n",
    "\n",
    "def remove_symbols_and_emojis(lemmatized_texts):\n",
    "    clean_texts = []\n",
    "    for tokens in lemmatized_texts:\n",
    "        clean_tokens = [token for token in tokens if token.isalnum()]  # Keep only alphanumeric tokens\n",
    "        clean_text = ' '.join(clean_tokens)\n",
    "        clean_texts.append(clean_text)\n",
    "    return clean_texts\n",
    "\n",
    "# Applying the function to remove symbols and emojis from lemmatized texts\n",
    "cyber_df['lemmatized_tokens'] = remove_symbols_and_emojis(cyber_df['lemmatized_tokens'])\n",
    "\n",
    "# Printing the DataFrame to see the results\n",
    "print(cyber_df.head())"
   ]
  },
  {
   "cell_type": "code",
   "execution_count": 31,
   "id": "ZiPVZlYDGZ7n",
   "metadata": {
    "id": "ZiPVZlYDGZ7n"
   },
   "outputs": [],
   "source": [
    "import nltk\n",
    "from nltk.corpus import stopwords\n",
    "from wordcloud import WordCloud\n",
    "from wordcloud import STOPWORDS\n"
   ]
  },
  {
   "cell_type": "markdown",
   "id": "OeVHHqduH9sm",
   "metadata": {
    "id": "OeVHHqduH9sm"
   },
   "source": [
    "#### Removing Stop Words and Generating a WordCloud"
   ]
  },
  {
   "cell_type": "code",
   "execution_count": 32,
   "id": "Eqk7QofBWOmP",
   "metadata": {
    "id": "Eqk7QofBWOmP"
   },
   "outputs": [],
   "source": [
    "from PIL import Image"
   ]
  },
  {
   "cell_type": "code",
   "execution_count": 33,
   "id": "JvZ8xupOM6Ur",
   "metadata": {
    "colab": {
     "base_uri": "https://localhost:8080/",
     "height": 406
    },
    "executionInfo": {
     "elapsed": 48323,
     "status": "ok",
     "timestamp": 1717734767632,
     "user": {
      "displayName": "Priscilla Lartey (Naadu)",
      "userId": "16198615527520245326"
     },
     "user_tz": 0
    },
    "id": "JvZ8xupOM6Ur",
    "outputId": "4fa4c507-1b97-43e2-bfb7-375b0ef8ebfc"
   },
   "outputs": [
    {
     "ename": "FileNotFoundError",
     "evalue": "[Errno 2] No such file or directory: '/content/twitter.png'",
     "output_type": "error",
     "traceback": [
      "\u001b[1;31m---------------------------------------------------------------------------\u001b[0m",
      "\u001b[1;31mFileNotFoundError\u001b[0m                         Traceback (most recent call last)",
      "Cell \u001b[1;32mIn[33], line 4\u001b[0m\n\u001b[0;32m      2\u001b[0m stopwords \u001b[38;5;241m=\u001b[39m \u001b[38;5;28mset\u001b[39m(STOPWORDS)\n\u001b[0;32m      3\u001b[0m textt \u001b[38;5;241m=\u001b[39m \u001b[38;5;124m\"\u001b[39m\u001b[38;5;124m \u001b[39m\u001b[38;5;124m\"\u001b[39m\u001b[38;5;241m.\u001b[39mjoin(text \u001b[38;5;28;01mfor\u001b[39;00m text \u001b[38;5;129;01min\u001b[39;00m cyber_df[\u001b[38;5;124m'\u001b[39m\u001b[38;5;124mlemmatized_tokens\u001b[39m\u001b[38;5;124m'\u001b[39m])\n\u001b[1;32m----> 4\u001b[0m mask \u001b[38;5;241m=\u001b[39m np\u001b[38;5;241m.\u001b[39marray(Image\u001b[38;5;241m.\u001b[39mopen(\u001b[38;5;124m\"\u001b[39m\u001b[38;5;124m/content/twitter.png\u001b[39m\u001b[38;5;124m\"\u001b[39m))\n\u001b[0;32m      5\u001b[0m wordcloud \u001b[38;5;241m=\u001b[39m WordCloud(stopwords\u001b[38;5;241m=\u001b[39mstopwords,background_color\u001b[38;5;241m=\u001b[39m\u001b[38;5;124m'\u001b[39m\u001b[38;5;124mwhite\u001b[39m\u001b[38;5;124m'\u001b[39m, max_words\u001b[38;5;241m=\u001b[39m\u001b[38;5;241m1000\u001b[39m,\n\u001b[0;32m      6\u001b[0m                       mask\u001b[38;5;241m=\u001b[39mmask,contour_color\u001b[38;5;241m=\u001b[39m\u001b[38;5;124m'\u001b[39m\u001b[38;5;124m#023075\u001b[39m\u001b[38;5;124m'\u001b[39m,contour_width\u001b[38;5;241m=\u001b[39m\u001b[38;5;241m6\u001b[39m,colormap\u001b[38;5;241m=\u001b[39m\u001b[38;5;124m'\u001b[39m\u001b[38;5;124mrainbow\u001b[39m\u001b[38;5;124m'\u001b[39m)\u001b[38;5;241m.\u001b[39mgenerate(textt)\n\u001b[0;32m      7\u001b[0m \u001b[38;5;66;03m# creating image as cloud\u001b[39;00m\n",
      "File \u001b[1;32m~\\anaconda3\\Lib\\site-packages\\PIL\\Image.py:3227\u001b[0m, in \u001b[0;36mopen\u001b[1;34m(fp, mode, formats)\u001b[0m\n\u001b[0;32m   3224\u001b[0m     filename \u001b[38;5;241m=\u001b[39m fp\n\u001b[0;32m   3226\u001b[0m \u001b[38;5;28;01mif\u001b[39;00m filename:\n\u001b[1;32m-> 3227\u001b[0m     fp \u001b[38;5;241m=\u001b[39m builtins\u001b[38;5;241m.\u001b[39mopen(filename, \u001b[38;5;124m\"\u001b[39m\u001b[38;5;124mrb\u001b[39m\u001b[38;5;124m\"\u001b[39m)\n\u001b[0;32m   3228\u001b[0m     exclusive_fp \u001b[38;5;241m=\u001b[39m \u001b[38;5;28;01mTrue\u001b[39;00m\n\u001b[0;32m   3230\u001b[0m \u001b[38;5;28;01mtry\u001b[39;00m:\n",
      "\u001b[1;31mFileNotFoundError\u001b[0m: [Errno 2] No such file or directory: '/content/twitter.png'"
     ]
    }
   ],
   "source": [
    "# Generating a word cloud image\n",
    "stopwords = set(STOPWORDS)\n",
    "textt = \" \".join(text for text in cyber_df['lemmatized_tokens'])\n",
    "mask = np.array(Image.open(\"/content/twitter.png\"))\n",
    "wordcloud = WordCloud(stopwords=stopwords,background_color='white', max_words=1000,\n",
    "                      mask=mask,contour_color='#023075',contour_width=6,colormap='rainbow').generate(textt)\n",
    "# creating image as cloud\n",
    "plt.figure()\n",
    "plt.imshow(wordcloud, interpolation=\"bilinear\")\n",
    "plt.axis(\"off\")\n",
    "# storing to file\n",
    "plt.savefig(\"wordcloudcb.png\", format=\"png\")\n",
    "plt.show()"
   ]
  },
  {
   "cell_type": "markdown",
   "id": "Lrjad_6PULXd",
   "metadata": {
    "id": "Lrjad_6PULXd"
   },
   "source": [
    "#### Feature Extraction Using TF-IDF"
   ]
  },
  {
   "cell_type": "code",
   "execution_count": 34,
   "id": "b384d931",
   "metadata": {
    "id": "b384d931"
   },
   "outputs": [],
   "source": [
    "# Feature extraction using TF-IDF\n",
    "tfidf_vectorizer = TfidfVectorizer(stop_words =\"english\", max_features=1000)\n",
    "X = tfidf_vectorizer.fit_transform(cyber_df['lemmatized_tokens'])\n",
    "y = encoded_labels\n"
   ]
  },
  {
   "cell_type": "markdown",
   "id": "fpFX7v3bSde4",
   "metadata": {
    "id": "fpFX7v3bSde4"
   },
   "source": [
    "## Model Building"
   ]
  },
  {
   "cell_type": "code",
   "execution_count": 35,
   "id": "sGjsGNydOIjn",
   "metadata": {
    "id": "sGjsGNydOIjn"
   },
   "outputs": [],
   "source": [
    "#splitting the data into training and testing datasets(75:25)\n",
    "X_train, X_test, y_train, y_test = train_test_split(X, y, test_size=0.25, stratify = y, random_state=42)"
   ]
  },
  {
   "cell_type": "markdown",
   "id": "On5tpg_3SqwZ",
   "metadata": {
    "id": "On5tpg_3SqwZ"
   },
   "source": [
    "#### 1. Logistic Regression"
   ]
  },
  {
   "cell_type": "code",
   "execution_count": 36,
   "id": "qW-ZLbLbSbo0",
   "metadata": {
    "colab": {
     "base_uri": "https://localhost:8080/"
    },
    "executionInfo": {
     "elapsed": 685,
     "status": "ok",
     "timestamp": 1717734769399,
     "user": {
      "displayName": "Priscilla Lartey (Naadu)",
      "userId": "16198615527520245326"
     },
     "user_tz": 0
    },
    "id": "qW-ZLbLbSbo0",
    "outputId": "8a1452fa-a15b-41cd-bb47-f394ce315982"
   },
   "outputs": [
    {
     "name": "stdout",
     "output_type": "stream",
     "text": [
      "Training set score: 0.993\n",
      "Test set score: 0.992\n",
      "              precision    recall  f1-score   support\n",
      "\n",
      "           0       1.00      0.99      0.99     12498\n",
      "           1       0.99      1.00      0.99     12500\n",
      "\n",
      "    accuracy                           0.99     24998\n",
      "   macro avg       0.99      0.99      0.99     24998\n",
      "weighted avg       0.99      0.99      0.99     24998\n",
      "\n"
     ]
    }
   ],
   "source": [
    "# Training the Logistic Regression\n",
    "lrc = LogisticRegression()\n",
    "lrc.fit(X_train, y_train)\n",
    "\n",
    "# Predicting on the test set\n",
    "y_pred = lrc.predict(X_test)\n",
    "\n",
    "print(\"Training set score: {:.3f}\".format(lrc.score(X_train, y_train)))\n",
    "print(\"Test set score: {:.3f}\".format(lrc.score(X_test, y_test)))\n",
    "\n",
    "\n",
    "# Evaluating the model\n",
    "print(classification_report(y_test, y_pred))"
   ]
  },
  {
   "cell_type": "code",
   "execution_count": 37,
   "id": "t-fp-0WIYLC2",
   "metadata": {
    "colab": {
     "base_uri": "https://localhost:8080/"
    },
    "executionInfo": {
     "elapsed": 23,
     "status": "ok",
     "timestamp": 1717734769401,
     "user": {
      "displayName": "Priscilla Lartey (Naadu)",
      "userId": "16198615527520245326"
     },
     "user_tz": 0
    },
    "id": "t-fp-0WIYLC2",
    "outputId": "45c067fd-98ae-4968-cd40-485034799a75"
   },
   "outputs": [
    {
     "name": "stdout",
     "output_type": "stream",
     "text": [
      "Training set score: 0.976\n",
      "Test set score: 0.974\n",
      "              precision    recall  f1-score   support\n",
      "\n",
      "           0       1.00      0.99      0.99     12498\n",
      "           1       0.99      1.00      0.99     12500\n",
      "\n",
      "    accuracy                           0.99     24998\n",
      "   macro avg       0.99      0.99      0.99     24998\n",
      "weighted avg       0.99      0.99      0.99     24998\n",
      "\n"
     ]
    }
   ],
   "source": [
    "from sklearn.naive_bayes import BernoulliNB\n",
    "\n",
    "# Training the Naive Bayes classifier\n",
    "bnb = BernoulliNB()\n",
    "bnb.fit(X_train, y_train)\n",
    "\n",
    "# Predicting on the test set\n",
    "y_pred_bnb = bnb.predict(X_test)\n",
    "\n",
    "print(\"Training set score: {:.3f}\".format(bnb.score(X_train, y_train)))\n",
    "print(\"Test set score: {:.3f}\".format(bnb.score(X_test, y_test)))\n",
    "\n",
    "# Evaluating the model\n",
    "print(classification_report(y_test, y_pred))"
   ]
  },
  {
   "cell_type": "markdown",
   "id": "y9fFpZsaQ4p2",
   "metadata": {
    "id": "y9fFpZsaQ4p2"
   },
   "source": [
    "#### 4. Decision Tree Classifier"
   ]
  },
  {
   "cell_type": "code",
   "execution_count": 38,
   "id": "h1OhtxNXRRy8",
   "metadata": {
    "colab": {
     "base_uri": "https://localhost:8080/"
    },
    "executionInfo": {
     "elapsed": 7582,
     "status": "ok",
     "timestamp": 1717734776971,
     "user": {
      "displayName": "Priscilla Lartey (Naadu)",
      "userId": "16198615527520245326"
     },
     "user_tz": 0
    },
    "id": "h1OhtxNXRRy8",
    "outputId": "97af247e-5cfb-416d-84d1-f9e625c69d4c"
   },
   "outputs": [
    {
     "name": "stdout",
     "output_type": "stream",
     "text": [
      "Training set score: 0.999\n",
      "Test set score: 0.992\n",
      "              precision    recall  f1-score   support\n",
      "\n",
      "           0       0.99      0.99      0.99     12498\n",
      "           1       0.99      0.99      0.99     12500\n",
      "\n",
      "    accuracy                           0.99     24998\n",
      "   macro avg       0.99      0.99      0.99     24998\n",
      "weighted avg       0.99      0.99      0.99     24998\n",
      "\n"
     ]
    }
   ],
   "source": [
    "# Training the Decision Tree Regression classifier\n",
    "dt = DecisionTreeClassifier()\n",
    "dt.fit(X_train, y_train)\n",
    "\n",
    "# Predicting on the test set\n",
    "y_pred_dt = dt.predict(X_test)\n",
    "\n",
    "print(\"Training set score: {:.3f}\".format(dt.score(X_train, y_train)))\n",
    "print(\"Test set score: {:.3f}\".format(dt.score(X_test, y_test)))\n",
    "\n",
    "\n",
    "# Evaluating the model\n",
    "print(classification_report(y_test, y_pred_dt))"
   ]
  },
  {
   "cell_type": "markdown",
   "id": "NHsUABMORkGu",
   "metadata": {
    "id": "NHsUABMORkGu"
   },
   "source": [
    "#### 5. Random Forest Classifier"
   ]
  },
  {
   "cell_type": "code",
   "execution_count": 39,
   "id": "bjxmWJiCRk4M",
   "metadata": {
    "colab": {
     "base_uri": "https://localhost:8080/"
    },
    "executionInfo": {
     "elapsed": 45063,
     "status": "ok",
     "timestamp": 1717734821997,
     "user": {
      "displayName": "Priscilla Lartey (Naadu)",
      "userId": "16198615527520245326"
     },
     "user_tz": 0
    },
    "id": "bjxmWJiCRk4M",
    "outputId": "3cd82072-7756-4e9d-a81a-355c3a33ca01"
   },
   "outputs": [
    {
     "name": "stdout",
     "output_type": "stream",
     "text": [
      "Training set score: 0.999\n",
      "Test set score: 0.994\n",
      "              precision    recall  f1-score   support\n",
      "\n",
      "           0       1.00      0.99      0.99     12498\n",
      "           1       0.99      1.00      0.99     12500\n",
      "\n",
      "    accuracy                           0.99     24998\n",
      "   macro avg       0.99      0.99      0.99     24998\n",
      "weighted avg       0.99      0.99      0.99     24998\n",
      "\n"
     ]
    }
   ],
   "source": [
    "# Training the Random Forest Classifier\n",
    "rf = RandomForestClassifier()\n",
    "rf.fit(X_train,y_train)\n",
    "\n",
    "# Predicting on the test set\n",
    "y_pred_rf = rf.predict(X_test)\n",
    "\n",
    "print(\"Training set score: {:.3f}\".format(rf.score(X_train, y_train)))\n",
    "print(\"Test set score: {:.3f}\".format(rf.score(X_test, y_test)))\n",
    "\n",
    "\n",
    "# Evaluating the model\n",
    "print(classification_report(y_test, y_pred_rf))"
   ]
  },
  {
   "cell_type": "markdown",
   "id": "kxRIKUvj9hdh",
   "metadata": {
    "id": "kxRIKUvj9hdh"
   },
   "source": [
    "#### 5. Gradient Boost Classifier"
   ]
  },
  {
   "cell_type": "code",
   "execution_count": 40,
   "id": "J1VsYnrE98SQ",
   "metadata": {
    "id": "J1VsYnrE98SQ"
   },
   "outputs": [],
   "source": [
    "from sklearn.ensemble import GradientBoostingClassifier"
   ]
  },
  {
   "cell_type": "code",
   "execution_count": 41,
   "id": "A31Z0Kby9gOb",
   "metadata": {
    "colab": {
     "base_uri": "https://localhost:8080/"
    },
    "executionInfo": {
     "elapsed": 21157,
     "status": "ok",
     "timestamp": 1717734843144,
     "user": {
      "displayName": "Priscilla Lartey (Naadu)",
      "userId": "16198615527520245326"
     },
     "user_tz": 0
    },
    "id": "A31Z0Kby9gOb",
    "outputId": "6df1a643-72aa-4daa-8dfb-28dbc68343d0"
   },
   "outputs": [
    {
     "name": "stdout",
     "output_type": "stream",
     "text": [
      "Training set score: 0.985\n",
      "Test set score: 0.985\n",
      "              precision    recall  f1-score   support\n",
      "\n",
      "           0       1.00      0.99      0.99     12498\n",
      "           1       0.99      1.00      0.99     12500\n",
      "\n",
      "    accuracy                           0.99     24998\n",
      "   macro avg       0.99      0.99      0.99     24998\n",
      "weighted avg       0.99      0.99      0.99     24998\n",
      "\n"
     ]
    }
   ],
   "source": [
    "gbc = GradientBoostingClassifier()\n",
    "gbc.fit(X_train, y_train)\n",
    "\n",
    "# Predicting on the test set\n",
    "y_pred_knn = gbc.predict(X_test)\n",
    "\n",
    "print(\"Training set score: {:.3f}\".format(gbc.score(X_train, y_train)))\n",
    "print(\"Test set score: {:.3f}\".format(gbc.score(X_test, y_test)))\n",
    "\n",
    "# Evaluating the model\n",
    "print(classification_report(y_test, y_pred))"
   ]
  },
  {
   "cell_type": "markdown",
   "id": "RcXZz9y3PfMc",
   "metadata": {
    "id": "RcXZz9y3PfMc"
   },
   "source": [
    "#### Hyperparameter Tuning"
   ]
  },
  {
   "cell_type": "code",
   "execution_count": 42,
   "id": "ZJDycKiyQA7N",
   "metadata": {
    "id": "ZJDycKiyQA7N"
   },
   "outputs": [],
   "source": [
    "# Function to evaluate models\n",
    "def evaluate_model(model, X_train, X_test, y_train, y_test):\n",
    "    model.fit(X_train, y_train)\n",
    "    y_train_pred = model.predict(X_train)\n",
    "    y_test_pred = model.predict(X_test)\n",
    "\n",
    "    train_accuracy = accuracy_score(y_train, y_train_pred)\n",
    "    test_accuracy = accuracy_score(y_test, y_test_pred)\n",
    "    train_f1 = f1_score(y_train, y_train_pred)\n",
    "    test_f1 = f1_score(y_test, y_test_pred)\n",
    "\n",
    "    print(f'Train Accuracy: {train_accuracy:.4f}')\n",
    "    print(f'Test Accuracy: {test_accuracy:.4f}')\n",
    "    print(f'Train F1 Score: {train_f1:.4f}')\n",
    "    print(f'Test F1 Score: {test_f1:.4f}')\n",
    "\n",
    "    print('Classification Report (Test Data):')\n",
    "    print(classification_report(y_test, y_test_pred))\n",
    "\n",
    "    print('Confusion Matrix (Test Data):')\n",
    "    sns.heatmap(confusion_matrix(y_test, y_test_pred), annot=True, fmt='d', cmap='Blues')\n",
    "    plt.show()\n",
    "\n",
    "    return train_accuracy, test_accuracy, train_f1, test_f1"
   ]
  },
  {
   "cell_type": "code",
   "execution_count": 43,
   "id": "CfTezXlDOKRX",
   "metadata": {
    "id": "CfTezXlDOKRX"
   },
   "outputs": [],
   "source": [
    "# Define models\n",
    "models = {\n",
    "    'LogisticRegression': LogisticRegression(),\n",
    "    'BernoulliNB': BernoulliNB(),\n",
    "    'Decision Tree': DecisionTreeClassifier(),\n",
    "    'Random Forest': RandomForestClassifier(),\n",
    "    'GradientBoost': GradientBoostingClassifier()}\n",
    "\n",
    "# Define parameter grids for each model\n",
    "param_grids = {\n",
    "    'LogisticRegression': {'C': [0.1, 1, 10],'penalty': ['l1', 'l2'],'solver': ['liblinear']},\n",
    "    'BernoulliNB' : {'alpha': [0.1, 1.0, 10.0],'fit_prior': [True, False]},\n",
    "    'Decision Tree': {'max_depth': [None, 10, 20], 'min_samples_leaf': [1, 5, 10]},\n",
    "    'Random Forest': {'n_estimators': [100, 200], 'max_depth': [10, 20]},\n",
    "    'GradientBoost': {'learning_rate': [0.1, 1],'n_estimators': [100,200]}}"
   ]
  },
  {
   "cell_type": "code",
   "execution_count": 44,
   "id": "OHllWoY6kvaJ",
   "metadata": {
    "colab": {
     "base_uri": "https://localhost:8080/",
     "height": 1000
    },
    "executionInfo": {
     "elapsed": 811446,
     "status": "ok",
     "timestamp": 1717736278080,
     "user": {
      "displayName": "Priscilla Lartey (Naadu)",
      "userId": "16198615527520245326"
     },
     "user_tz": 0
    },
    "id": "OHllWoY6kvaJ",
    "outputId": "9ce4ed4e-d930-4d07-c585-6de72f30fe91"
   },
   "outputs": [
    {
     "name": "stdout",
     "output_type": "stream",
     "text": [
      "\n",
      "Model: LogisticRegression\n",
      "Best Parameters: {'C': 10, 'penalty': 'l2', 'solver': 'liblinear'}\n",
      "Train Accuracy: 0.9949\n",
      "Test Accuracy: 0.9939\n",
      "Train F1 Score: 0.9949\n",
      "Test F1 Score: 0.9939\n",
      "Classification Report (Test Data):\n",
      "              precision    recall  f1-score   support\n",
      "\n",
      "           0       1.00      0.99      0.99     12498\n",
      "           1       0.99      1.00      0.99     12500\n",
      "\n",
      "    accuracy                           0.99     24998\n",
      "   macro avg       0.99      0.99      0.99     24998\n",
      "weighted avg       0.99      0.99      0.99     24998\n",
      "\n",
      "Confusion Matrix (Test Data):\n"
     ]
    },
    {
     "data": {
      "image/png": "[encoded data removed]",
      "text/plain": [
       "<Figure size 640x480 with 2 Axes>"
      ]
     },
     "metadata": {},
     "output_type": "display_data"
    },
    {
     "name": "stdout",
     "output_type": "stream",
     "text": [
      "\n",
      "Model: BernoulliNB\n",
      "Best Parameters: {'alpha': 10.0, 'fit_prior': True}\n",
      "Train Accuracy: 0.9779\n",
      "Test Accuracy: 0.9768\n",
      "Train F1 Score: 0.9776\n",
      "Test F1 Score: 0.9765\n",
      "Classification Report (Test Data):\n",
      "              precision    recall  f1-score   support\n",
      "\n",
      "           0       0.96      0.99      0.98     12498\n",
      "           1       0.99      0.96      0.98     12500\n",
      "\n",
      "    accuracy                           0.98     24998\n",
      "   macro avg       0.98      0.98      0.98     24998\n",
      "weighted avg       0.98      0.98      0.98     24998\n",
      "\n",
      "Confusion Matrix (Test Data):\n"
     ]
    },
    {
     "data": {
      "image/png": "[encoded data removed]",
      "text/plain": [
       "<Figure size 640x480 with 2 Axes>"
      ]
     },
     "metadata": {},
     "output_type": "display_data"
    },
    {
     "name": "stdout",
     "output_type": "stream",
     "text": [
      "\n",
      "Model: Decision Tree\n",
      "Best Parameters: {'max_depth': None, 'min_samples_leaf': 5}\n",
      "Train Accuracy: 0.9948\n",
      "Test Accuracy: 0.9930\n",
      "Train F1 Score: 0.9948\n",
      "Test F1 Score: 0.9930\n",
      "Classification Report (Test Data):\n",
      "              precision    recall  f1-score   support\n",
      "\n",
      "           0       1.00      0.99      0.99     12498\n",
      "           1       0.99      1.00      0.99     12500\n",
      "\n",
      "    accuracy                           0.99     24998\n",
      "   macro avg       0.99      0.99      0.99     24998\n",
      "weighted avg       0.99      0.99      0.99     24998\n",
      "\n",
      "Confusion Matrix (Test Data):\n"
     ]
    },
    {
     "data": {
      "image/png": "[encoded data removed]",
      "text/plain": [
       "<Figure size 640x480 with 2 Axes>"
      ]
     },
     "metadata": {},
     "output_type": "display_data"
    },
    {
     "name": "stdout",
     "output_type": "stream",
     "text": [
      "\n",
      "Model: Random Forest\n",
      "Best Parameters: {'max_depth': 20, 'n_estimators': 200}\n",
      "Train Accuracy: 0.9927\n",
      "Test Accuracy: 0.9913\n",
      "Train F1 Score: 0.9927\n",
      "Test F1 Score: 0.9913\n",
      "Classification Report (Test Data):\n",
      "              precision    recall  f1-score   support\n",
      "\n",
      "           0       1.00      0.99      0.99     12498\n",
      "           1       0.99      1.00      0.99     12500\n",
      "\n",
      "    accuracy                           0.99     24998\n",
      "   macro avg       0.99      0.99      0.99     24998\n",
      "weighted avg       0.99      0.99      0.99     24998\n",
      "\n",
      "Confusion Matrix (Test Data):\n"
     ]
    },
    {
     "data": {
      "image/png": "[encoded data removed]",
      "text/plain": [
       "<Figure size 640x480 with 2 Axes>"
      ]
     },
     "metadata": {},
     "output_type": "display_data"
    },
    {
     "name": "stdout",
     "output_type": "stream",
     "text": [
      "\n",
      "Model: GradientBoost\n",
      "Best Parameters: {'learning_rate': 1, 'n_estimators': 200}\n",
      "Train Accuracy: 0.9938\n",
      "Test Accuracy: 0.9917\n",
      "Train F1 Score: 0.9939\n",
      "Test F1 Score: 0.9917\n",
      "Classification Report (Test Data):\n",
      "              precision    recall  f1-score   support\n",
      "\n",
      "           0       1.00      0.99      0.99     12498\n",
      "           1       0.99      1.00      0.99     12500\n",
      "\n",
      "    accuracy                           0.99     24998\n",
      "   macro avg       0.99      0.99      0.99     24998\n",
      "weighted avg       0.99      0.99      0.99     24998\n",
      "\n",
      "Confusion Matrix (Test Data):\n"
     ]
    },
    {
     "data": {
      "image/png": "[encoded data removed]",
      "text/plain": [
       "<Figure size 640x480 with 2 Axes>"
      ]
     },
     "metadata": {},
     "output_type": "display_data"
    }
   ],
   "source": [
    "# Using Grid search to find the best hyperparameter for each model\n",
    "results = []\n",
    "best_models = {}\n",
    "for model_name, model in models.items():\n",
    "    print(f'\\nModel: {model_name}')\n",
    "    grid_search = GridSearchCV(model, param_grids[model_name], cv=5, scoring='f1')\n",
    "    grid_search.fit(X_train, y_train)\n",
    "\n",
    "    best_model = grid_search.best_estimator_\n",
    "    best_models[model_name] = best_model\n",
    "    print(f'Best Parameters: {grid_search.best_params_}')\n",
    "\n",
    "    train_acc, test_acc, train_f1, test_f1 = evaluate_model(best_model, X_train, X_test, y_train, y_test)\n",
    "\n",
    "    results.append({\n",
    "        'Model': model_name,\n",
    "        'Best Params': grid_search.best_params_,\n",
    "        'Train Accuracy': train_acc,\n",
    "        'Test Accuracy': test_acc,\n",
    "        'Train F1 Score': train_f1,\n",
    "        'Test F1 Score': test_f1\n",
    "\n",
    "    })\n"
   ]
  },
  {
   "cell_type": "markdown",
   "id": "4kZX8K6kpFRB",
   "metadata": {
    "id": "4kZX8K6kpFRB"
   },
   "source": [
    "## Model Evaluation"
   ]
  },
  {
   "cell_type": "code",
   "execution_count": 45,
   "id": "zqQtcmZKNdvT",
   "metadata": {
    "colab": {
     "base_uri": "https://localhost:8080/",
     "height": 516
    },
    "executionInfo": {
     "elapsed": 3640,
     "status": "ok",
     "timestamp": 1717737037777,
     "user": {
      "displayName": "Priscilla Lartey (Naadu)",
      "userId": "16198615527520245326"
     },
     "user_tz": 0
    },
    "id": "zqQtcmZKNdvT",
    "outputId": "c142f51c-0a6d-4f18-fbb4-80f203372634"
   },
   "outputs": [
    {
     "data": {
      "image/png": "[encoded data removed]",
      "text/plain": [
       "<Figure size 640x480 with 1 Axes>"
      ]
     },
     "metadata": {},
     "output_type": "display_data"
    },
    {
     "data": {
      "text/plain": [
       "<Figure size 640x480 with 0 Axes>"
      ]
     },
     "metadata": {},
     "output_type": "display_data"
    }
   ],
   "source": [
    "from sklearn.metrics import roc_curve,auc\n",
    "plt.figure()\n",
    "\n",
    "for model_name, best_model in best_models.items():\n",
    "    # Predicting probabilities\n",
    "    y_score = best_model.predict_proba(X_test)[:, 1]\n",
    "\n",
    "    # Computing ROC curve and ROC area\n",
    "    fpr, tpr, _ = roc_curve(y_test, y_score)\n",
    "    roc_auc = auc(fpr, tpr)\n",
    "\n",
    "    # Plotting the ROC curve\n",
    "    plt.plot(fpr, tpr, lw=2, label=f'{model_name}')\n",
    "\n",
    "# Plotting the diagonal line for random guess\n",
    "plt.plot([0, 1], [0, 1], color='navy', lw=2, linestyle='--')\n",
    "\n",
    "plt.xlim([0.0, 1.0])\n",
    "plt.ylim([0.0, 1.05])\n",
    "plt.xlabel('False Positive Rate')\n",
    "plt.ylabel('True Positive Rate')\n",
    "plt.title('ROC Curve for All Models')\n",
    "plt.legend(loc=\"lower right\")\n",
    "plt.show()\n",
    "plt.savefig(\"roc.png\", format=\"jpg\")\n",
    "#change y scale"
   ]
  },
  {
   "cell_type": "code",
   "execution_count": 46,
   "id": "cz8In1c0k0Xu",
   "metadata": {
    "id": "cz8In1c0k0Xu"
   },
   "outputs": [
    {
     "data": {
      "text/plain": [
       "{'LogisticRegression': LogisticRegression(C=10, solver='liblinear'),\n",
       " 'BernoulliNB': BernoulliNB(alpha=10.0),\n",
       " 'Decision Tree': DecisionTreeClassifier(min_samples_leaf=5),\n",
       " 'Random Forest': RandomForestClassifier(max_depth=20, n_estimators=200),\n",
       " 'GradientBoost': GradientBoostingClassifier(learning_rate=1, n_estimators=200)}"
      ]
     },
     "execution_count": 46,
     "metadata": {},
     "output_type": "execute_result"
    }
   ],
   "source": [
    "best_models"
   ]
  },
  {
   "cell_type": "markdown",
   "id": "puyo5FVCbLgI",
   "metadata": {
    "id": "puyo5FVCbLgI"
   },
   "source": [
    "## Model Comparison"
   ]
  },
  {
   "cell_type": "code",
   "execution_count": 47,
   "id": "ndZ8lVNKL-53",
   "metadata": {
    "id": "ndZ8lVNKL-53"
   },
   "outputs": [
    {
     "data": {
      "text/html": [
       "<div>\n",
       "<style scoped>\n",
       "    .dataframe tbody tr th:only-of-type {\n",
       "        vertical-align: middle;\n",
       "    }\n",
       "\n",
       "    .dataframe tbody tr th {\n",
       "        vertical-align: top;\n",
       "    }\n",
       "\n",
       "    .dataframe thead th {\n",
       "        text-align: right;\n",
       "    }\n",
       "</style>\n",
       "<table border=\"1\" class=\"dataframe\">\n",
       "  <thead>\n",
       "    <tr style=\"text-align: right;\">\n",
       "      <th></th>\n",
       "      <th>Model</th>\n",
       "      <th>Best Params</th>\n",
       "      <th>Train Accuracy</th>\n",
       "      <th>Test Accuracy</th>\n",
       "      <th>Train F1 Score</th>\n",
       "      <th>Test F1 Score</th>\n",
       "    </tr>\n",
       "  </thead>\n",
       "  <tbody>\n",
       "    <tr>\n",
       "      <th>0</th>\n",
       "      <td>LogisticRegression</td>\n",
       "      <td>{'C': 10, 'penalty': 'l2', 'solver': 'liblinear'}</td>\n",
       "      <td>0.994866</td>\n",
       "      <td>0.993880</td>\n",
       "      <td>0.994886</td>\n",
       "      <td>0.993906</td>\n",
       "    </tr>\n",
       "    <tr>\n",
       "      <th>1</th>\n",
       "      <td>Decision Tree</td>\n",
       "      <td>{'max_depth': None, 'min_samples_leaf': 5}</td>\n",
       "      <td>0.994813</td>\n",
       "      <td>0.992959</td>\n",
       "      <td>0.994830</td>\n",
       "      <td>0.992984</td>\n",
       "    </tr>\n",
       "    <tr>\n",
       "      <th>2</th>\n",
       "      <td>GradientBoost</td>\n",
       "      <td>{'learning_rate': 1, 'n_estimators': 200}</td>\n",
       "      <td>0.993826</td>\n",
       "      <td>0.991679</td>\n",
       "      <td>0.993861</td>\n",
       "      <td>0.991734</td>\n",
       "    </tr>\n",
       "    <tr>\n",
       "      <th>3</th>\n",
       "      <td>Random Forest</td>\n",
       "      <td>{'max_depth': 20, 'n_estimators': 200}</td>\n",
       "      <td>0.992679</td>\n",
       "      <td>0.991279</td>\n",
       "      <td>0.992730</td>\n",
       "      <td>0.991331</td>\n",
       "    </tr>\n",
       "    <tr>\n",
       "      <th>4</th>\n",
       "      <td>BernoulliNB</td>\n",
       "      <td>{'alpha': 10.0, 'fit_prior': True}</td>\n",
       "      <td>0.977904</td>\n",
       "      <td>0.976798</td>\n",
       "      <td>0.977583</td>\n",
       "      <td>0.976457</td>\n",
       "    </tr>\n",
       "  </tbody>\n",
       "</table>\n",
       "</div>"
      ],
      "text/plain": [
       "                Model                                        Best Params  \\\n",
       "0  LogisticRegression  {'C': 10, 'penalty': 'l2', 'solver': 'liblinear'}   \n",
       "1       Decision Tree         {'max_depth': None, 'min_samples_leaf': 5}   \n",
       "2       GradientBoost          {'learning_rate': 1, 'n_estimators': 200}   \n",
       "3       Random Forest             {'max_depth': 20, 'n_estimators': 200}   \n",
       "4         BernoulliNB                 {'alpha': 10.0, 'fit_prior': True}   \n",
       "\n",
       "   Train Accuracy  Test Accuracy  Train F1 Score  Test F1 Score  \n",
       "0        0.994866       0.993880        0.994886       0.993906  \n",
       "1        0.994813       0.992959        0.994830       0.992984  \n",
       "2        0.993826       0.991679        0.993861       0.991734  \n",
       "3        0.992679       0.991279        0.992730       0.991331  \n",
       "4        0.977904       0.976798        0.977583       0.976457  "
      ]
     },
     "execution_count": 47,
     "metadata": {},
     "output_type": "execute_result"
    }
   ],
   "source": [
    "results_df = pd.DataFrame(results).sort_values(by='Test Accuracy', ascending=False)\n",
    "results_df.reset_index(drop=True)\n"
   ]
  },
  {
   "cell_type": "code",
   "execution_count": 48,
   "id": "C4DuWaU5Xp_Z",
   "metadata": {
    "id": "C4DuWaU5Xp_Z"
   },
   "outputs": [
    {
     "data": {
      "text/html": [
       "<div>\n",
       "<style scoped>\n",
       "    .dataframe tbody tr th:only-of-type {\n",
       "        vertical-align: middle;\n",
       "    }\n",
       "\n",
       "    .dataframe tbody tr th {\n",
       "        vertical-align: top;\n",
       "    }\n",
       "\n",
       "    .dataframe thead th {\n",
       "        text-align: right;\n",
       "    }\n",
       "</style>\n",
       "<table border=\"1\" class=\"dataframe\">\n",
       "  <thead>\n",
       "    <tr style=\"text-align: right;\">\n",
       "      <th></th>\n",
       "      <th>Model</th>\n",
       "      <th>Test Accuracy</th>\n",
       "      <th>Test Accuracy</th>\n",
       "    </tr>\n",
       "  </thead>\n",
       "  <tbody>\n",
       "    <tr>\n",
       "      <th>0</th>\n",
       "      <td>LogisticRegression</td>\n",
       "      <td>0.993880</td>\n",
       "      <td>0.993880</td>\n",
       "    </tr>\n",
       "    <tr>\n",
       "      <th>2</th>\n",
       "      <td>Decision Tree</td>\n",
       "      <td>0.992959</td>\n",
       "      <td>0.992959</td>\n",
       "    </tr>\n",
       "    <tr>\n",
       "      <th>4</th>\n",
       "      <td>GradientBoost</td>\n",
       "      <td>0.991679</td>\n",
       "      <td>0.991679</td>\n",
       "    </tr>\n",
       "    <tr>\n",
       "      <th>3</th>\n",
       "      <td>Random Forest</td>\n",
       "      <td>0.991279</td>\n",
       "      <td>0.991279</td>\n",
       "    </tr>\n",
       "    <tr>\n",
       "      <th>1</th>\n",
       "      <td>BernoulliNB</td>\n",
       "      <td>0.976798</td>\n",
       "      <td>0.976798</td>\n",
       "    </tr>\n",
       "  </tbody>\n",
       "</table>\n",
       "</div>"
      ],
      "text/plain": [
       "                Model  Test Accuracy  Test Accuracy\n",
       "0  LogisticRegression       0.993880       0.993880\n",
       "2       Decision Tree       0.992959       0.992959\n",
       "4       GradientBoost       0.991679       0.991679\n",
       "3       Random Forest       0.991279       0.991279\n",
       "1         BernoulliNB       0.976798       0.976798"
      ]
     },
     "execution_count": 48,
     "metadata": {},
     "output_type": "execute_result"
    }
   ],
   "source": [
    "model_scores= results_df[['Model','Train Accuracy','Test Accuracy']]\n",
    "model_scores"
   ]
  },
  {
   "cell_type": "code",
   "execution_count": null,
   "id": "RBT-C33lXpy7",
   "metadata": {
    "id": "RBT-C33lXpy7"
   },
   "outputs": [],
   "source": []
  },
  {
   "cell_type": "code",
   "execution_count": 49,
   "id": "iScmymdembDf",
   "metadata": {
    "id": "iScmymdembDf"
   },
   "outputs": [
    {
     "name": "stdout",
     "output_type": "stream",
     "text": [
      "                Model                                        Best Params  \\\n",
      "0  LogisticRegression  {'C': 10, 'penalty': 'l2', 'solver': 'liblinear'}   \n",
      "1         BernoulliNB                 {'alpha': 10.0, 'fit_prior': True}   \n",
      "2       Decision Tree         {'max_depth': None, 'min_samples_leaf': 5}   \n",
      "3       Random Forest             {'max_depth': 20, 'n_estimators': 200}   \n",
      "4       GradientBoost          {'learning_rate': 1, 'n_estimators': 200}   \n",
      "\n",
      "   Train Accuracy  Test Accuracy  Train F1 Score  Test F1 Score  \n",
      "0        0.994866       0.993880        0.994886       0.993906  \n",
      "1        0.977904       0.976798        0.977583       0.976457  \n",
      "2        0.994813       0.992959        0.994830       0.992984  \n",
      "3        0.992679       0.991279        0.992730       0.991331  \n",
      "4        0.993826       0.991679        0.993861       0.991734  \n"
     ]
    },
    {
     "data": {
      "image/png": "[encoded data removed]",
      "text/plain": [
       "<Figure size 1400x1000 with 4 Axes>"
      ]
     },
     "metadata": {},
     "output_type": "display_data"
    }
   ],
   "source": [
    "results_df = pd.DataFrame(results)\n",
    "print(results_df)\n",
    "\n",
    "# Plotting the results\n",
    "fig, axes = plt.subplots(2, 2, figsize=(14, 10))\n",
    "axes = axes.ravel()\n",
    "\n",
    "metrics = ['Train Accuracy', 'Test Accuracy', 'Train F1 Score', 'Test F1 Score']\n",
    "\n",
    "for idx, metric in enumerate(metrics):\n",
    "    sns.barplot(x='Model', y=metric, data=results_df, ax=axes[idx], palette='viridis')\n",
    "    axes[idx].set_title(f'{metric} Comparison')\n",
    "    axes[idx].set_ylabel(metric)\n",
    "    axes[idx].set_xlabel('Model')\n",
    "    for item in axes[idx].get_xticklabels():\n",
    "        item.set_rotation(45)\n",
    "\n",
    "plt.tight_layout()\n",
    "plt.show()"
   ]
  },
  {
   "cell_type": "markdown",
   "id": "gs4ENrXqbPGv",
   "metadata": {
    "id": "gs4ENrXqbPGv"
   },
   "source": [
    "## Model Selection"
   ]
  },
  {
   "cell_type": "code",
   "execution_count": 50,
   "id": "Axrvn309nLwr",
   "metadata": {
    "id": "Axrvn309nLwr"
   },
   "outputs": [
    {
     "name": "stdout",
     "output_type": "stream",
     "text": [
      "Best Model based on Test Accuracy:\n",
      "Model                                            LogisticRegression\n",
      "Best Params       {'C': 10, 'penalty': 'l2', 'solver': 'liblinear'}\n",
      "Train Accuracy                                             0.994866\n",
      "Test Accuracy                                               0.99388\n",
      "Train F1 Score                                             0.994886\n",
      "Test F1 Score                                              0.993906\n",
      "Name: 0, dtype: object\n",
      "\n",
      "Best Model based on Test F1 Score:\n",
      "Model                                            LogisticRegression\n",
      "Best Params       {'C': 10, 'penalty': 'l2', 'solver': 'liblinear'}\n",
      "Train Accuracy                                             0.994866\n",
      "Test Accuracy                                               0.99388\n",
      "Train F1 Score                                             0.994886\n",
      "Test F1 Score                                              0.993906\n",
      "Name: 0, dtype: object\n",
      "\n",
      "Best Model based on Combined Test Accuracy and Test F1 Score:\n",
      "Model                                            LogisticRegression\n",
      "Best Params       {'C': 10, 'penalty': 'l2', 'solver': 'liblinear'}\n",
      "Train Accuracy                                             0.994866\n",
      "Test Accuracy                                               0.99388\n",
      "Train F1 Score                                             0.994886\n",
      "Test F1 Score                                              0.993906\n",
      "Average Score                                              0.993893\n",
      "Name: 0, dtype: object\n"
     ]
    }
   ],
   "source": [
    "# Finding the best model based on Test Accuracy and Test F1 Score\n",
    "best_model_accuracy_row = results_df.loc[results_df['Test Accuracy'].idxmax()]\n",
    "best_model_f1_row = results_df.loc[results_df['Test F1 Score'].idxmax()]\n",
    "\n",
    "print(\"Best Model based on Test Accuracy:\")\n",
    "print(best_model_accuracy_row)\n",
    "\n",
    "print(\"\\nBest Model based on Test F1 Score:\")\n",
    "print(best_model_f1_row)\n",
    "\n",
    "results_df['Average Score'] = (results_df['Test Accuracy'] + results_df['Test F1 Score']) / 2\n",
    "best_model_combined_row = results_df.loc[results_df['Average Score'].idxmax()]\n",
    "\n",
    "print(\"\\nBest Model based on Combined Test Accuracy and Test F1 Score:\")\n",
    "print(best_model_combined_row)"
   ]
  },
  {
   "cell_type": "code",
   "execution_count": 86,
   "id": "TcynofP-ngU_",
   "metadata": {
    "id": "TcynofP-ngU_"
   },
   "outputs": [
    {
     "name": "stdout",
     "output_type": "stream",
     "text": [
      "(24998, 2)\n",
      "Correct Predictions\n",
      "True Label  Predicted Label\n",
      "1           1                  12476\n",
      "0           0                  12369\n",
      "Name: count, dtype: int64\n",
      "\n",
      "\n",
      "Wrong Predictions\n",
      "True Label  Predicted Label\n",
      "0           1                  129\n",
      "1           0                   24\n",
      "Name: count, dtype: int64\n"
     ]
    }
   ],
   "source": [
    "# DataFrame to show true vs predicted values\n",
    "prediction_df = pd.DataFrame({\n",
    "    'True Label': y_test,\n",
    "    'Predicted Label': y_test_pred\n",
    "})\n",
    "\n",
    "correct_predictions= prediction_df[prediction_df['Predicted Label'] == prediction_df['True Label']]\n",
    "wrong_predictions=prediction_df[prediction_df['Predicted Label'] != prediction_df['True Label']]\n",
    "\n",
    "print(prediction_df.shape)\n",
    "print ('Correct Predictions')\n",
    "print(correct_predictions.value_counts())\n",
    "print('\\n')\n",
    "print('Wrong Predictions')\n",
    "print(wrong_predictions.value_counts())\n"
   ]
  },
  {
   "cell_type": "markdown",
   "id": "cVO9ZUOh4OpP",
   "metadata": {
    "id": "cVO9ZUOh4OpP"
   },
   "source": [
    "### Conclusion"
   ]
  },
  {
   "cell_type": "markdown",
   "id": "e3fe43f7",
   "metadata": {
    "id": "2EL5KjDO4TU6"
   },
   "source": [
    "The aim of this project was to build a model which accurately classifies cyberbullying tweets. The data set contained a multilabelled tweets of cyberbullying instances, however the labels were regrouped as either non cyberbullying or cyberbullying. Exploratory Data ANalysis as well as Text processing was performed on the data set. The resulting data was used to train five models; \n",
    "\n",
    "Logistic regression model emerged as the best model with an **F1 score** of **99.39%**. \n",
    "\n",
    "Future directions of this project includes integrating the deployed model into APIs of Social media platforms and educational and coporate forums for accurate detection of cyberbullying cases and timely intervention."
   ]
  }
 ],
 "metadata": {
  "colab": {
   "provenance": [
    {
     "file_id": "1hzcr2y2rATUZRzS0Jgh8NHLpqUFXqCDH",
     "timestamp": 1717553278169
    }
   ]
  },
  "kernelspec": {
   "display_name": "Python 3 (ipykernel)",
   "language": "python",
   "name": "python3"
  },
  "language_info": {
   "codemirror_mode": {
    "name": "ipython",
    "version": 3
   },
   "file_extension": ".py",
   "mimetype": "text/x-python",
   "name": "python",
   "nbconvert_exporter": "python",
   "pygments_lexer": "ipython3",
   "version": "3.11.5"
  }
 },
 "nbformat": 4,
 "nbformat_minor": 5
}
